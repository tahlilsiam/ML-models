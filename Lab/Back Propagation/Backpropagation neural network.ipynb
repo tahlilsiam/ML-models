{
 "cells": [
  {
   "cell_type": "code",
   "execution_count": 136,
   "id": "8d94e435",
   "metadata": {},
   "outputs": [],
   "source": [
    "import numpy as np"
   ]
  },
  {
   "cell_type": "code",
   "execution_count": 137,
   "id": "899c6d3c",
   "metadata": {},
   "outputs": [],
   "source": [
    "X_train = np.array([[0, 0], [0, 1], [1, 0], [1, 1]]).T\n",
    "y_train = np.array([0, 1, 1, 0])\n",
    "\n",
    "input_size = X_train.shape[0]\n",
    "hidden_size = 3\n",
    "output_size = 2 \n",
    "learning_rate = 0.01\n",
    "num_epochs = 1000"
   ]
  },
  {
   "cell_type": "code",
   "execution_count": 138,
   "id": "8824a535",
   "metadata": {},
   "outputs": [],
   "source": [
    "def sigmoid(x):\n",
    "    return 1 / (1 + np.exp(-x))"
   ]
  },
  {
   "cell_type": "code",
   "execution_count": 139,
   "id": "9050661c",
   "metadata": {},
   "outputs": [],
   "source": [
    "def sigmoid_derivative(x):\n",
    "    return x * (1 - x)"
   ]
  },
  {
   "cell_type": "code",
   "execution_count": 140,
   "id": "8273b502",
   "metadata": {},
   "outputs": [],
   "source": [
    "def initialize_parameters(input_size, hidden_size, output_size):\n",
    "    np.random.seed(0)\n",
    "    W1 = np.random.randn(hidden_size, input_size)\n",
    "    b1 = np.zeros((hidden_size, 1))\n",
    "    W2 = np.random.randn(output_size, hidden_size)\n",
    "    b2 = np.zeros((output_size, 1))\n",
    "    return W1, b1, W2, b2"
   ]
  },
  {
   "cell_type": "code",
   "execution_count": 141,
   "id": "d2ff74b1",
   "metadata": {},
   "outputs": [],
   "source": [
    "def forward_propagation(X, W1, b1, W2, b2):\n",
    "    Z1 = np.dot(W1, X) + b1\n",
    "    A1 = sigmoid(Z1)\n",
    "    Z2 = np.dot(W2, A1) + b2\n",
    "    A2 = sigmoid(Z2)\n",
    "    return Z1, A1, Z2, A2\n",
    "\n",
    "def calculate_loss(A2, Y):\n",
    "    m = Y.shape[1]\n",
    "    loss = -1/m * np.sum(Y * np.log(A2) + (1 - Y) * np.log(1 - A2))\n",
    "    return loss\n",
    "\n",
    "def backward_propagation(X, Y, Z1, A1, Z2, A2, W1, W2,b1,b2, learning_rate):\n",
    "    m = Y.shape[1]\n",
    "\n",
    "    dZ2 = A2 - Y\n",
    "    dW2 = 1/m * np.dot(dZ2, A1.T)\n",
    "    db2 = 1/m * np.sum(dZ2, axis=1, keepdims=True)\n",
    "\n",
    "    dZ1 = np.dot(W2.T, dZ2) * sigmoid_derivative(A1)\n",
    "    dW1 = 1/m * np.dot(dZ1, X.T)\n",
    "    db1 = 1/m * np.sum(dZ1, axis=1, keepdims=True)\n",
    "\n",
    "    W1 -= learning_rate * dW1\n",
    "    b1 -= learning_rate * db1\n",
    "    W2 -= learning_rate * dW2\n",
    "    b2 -= learning_rate * db2\n",
    "\n",
    "    return W1, b1, W2, b2"
   ]
  },
  {
   "cell_type": "code",
   "execution_count": 142,
   "id": "5944e782",
   "metadata": {},
   "outputs": [],
   "source": [
    "def train(X, y, hidden_size, output_size, learning_rate, num_epochs):\n",
    "    input_size = X.shape[0]\n",
    "\n",
    "    num_samples = len(y)\n",
    "    Y = np.zeros((output_size, num_samples))\n",
    "    Y[y, np.arange(num_samples)] = 1\n",
    "\n",
    "    W1, b1, W2, b2 = initialize_parameters(input_size, hidden_size, output_size)\n",
    "\n",
    "    for epoch in range(num_epochs):\n",
    "        Z1, A1, Z2, A2 = forward_propagation(X, W1, b1, W2, b2)\n",
    "        loss = calculate_loss(A2, Y)\n",
    "        W1, b1, W2, b2 = backward_propagation(X, Y, Z1, A1, Z2, A2, W1, W2,b1,b2, learning_rate)\n",
    "                                              \n",
    "    print(f\" Loss: {loss}\")\n",
    "\n",
    "    return W1, b1, W2, b2\n",
    "\n",
    "def predict(X, W1, b1, W2, b2):\n",
    "    _, _, _, A2 = forward_propagation(X, W1, b1, W2, b2)\n",
    "    predictions = np.argmax(A2, axis=0)\n",
    "    return predictions\n"
   ]
  },
  {
   "cell_type": "code",
   "execution_count": 143,
   "id": "e8ce9720",
   "metadata": {},
   "outputs": [
    {
     "name": "stdout",
     "output_type": "stream",
     "text": [
      " Loss: 0.7725533368054247\n",
      "Predictions: [0 1 1 0]\n"
     ]
    }
   ],
   "source": [
    "W1, b1, W2, b2 = train(X_train, y_train, hidden_size, output_size, learning_rate, num_epochs)\n",
    "\n",
    "# Test \n",
    "predictions = predict(X_train, W1, b1, W2, b2)\n",
    "print(\"Predictions:\", predictions)"
   ]
  }
 ],
 "metadata": {
  "kernelspec": {
   "display_name": "Python 3 (ipykernel)",
   "language": "python",
   "name": "python3"
  },
  "language_info": {
   "codemirror_mode": {
    "name": "ipython",
    "version": 3
   },
   "file_extension": ".py",
   "mimetype": "text/x-python",
   "name": "python",
   "nbconvert_exporter": "python",
   "pygments_lexer": "ipython3",
   "version": "3.10.5"
  }
 },
 "nbformat": 4,
 "nbformat_minor": 5
}
